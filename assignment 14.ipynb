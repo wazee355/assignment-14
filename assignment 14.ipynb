{
 "cells": [
  {
   "cell_type": "markdown",
   "id": "0b9d95ba",
   "metadata": {},
   "source": [
    "1. What does RGBA stand for?\n",
    "\n",
    "Answer- RGBA stands for Red-Green-Blue-Alpha."
   ]
  },
  {
   "cell_type": "markdown",
   "id": "df714041",
   "metadata": {},
   "source": [
    "2. From the Pillow module, how do you get the RGBA value of any images?\n",
    "\n",
    "Answer- Pillow offers the ImageColor.getcolor() function to use. This function takes a color name string as its first argument, and the string 'RGBA' as its second argument, and it returns an RGBA tuple."
   ]
  },
  {
   "cell_type": "markdown",
   "id": "0487e413",
   "metadata": {},
   "source": [
    "3. What is a box tuple, and how does it work?\n",
    "\n",
    "Answer-The box. tuple submodule provides read-only access for the tuple userdata type. It allows, for a single tuple: selective retrieval of the field contents, retrieval of information about size, iteration over all the fields, and conversion to a Lua table. "
   ]
  },
  {
   "cell_type": "markdown",
   "id": "6cb46632",
   "metadata": {},
   "source": [
    "4. Use your image and load in notebook then, How can you find out the width and height of an Image object?\n",
    "\n",
    "Answer- PIL.Image.open() is used to open the image and then .width and .height property of Image are used to get the height and width of the image. The same results can be obtained by using .size property."
   ]
  },
  {
   "cell_type": "code",
   "execution_count": null,
   "id": "c314917d",
   "metadata": {},
   "outputs": [],
   "source": [
    "#5. What method would you call to get Image object for a 100×100 image, excluding the lower-left quarter of it?\n",
    "\n",
    "#Answer- # Open the original image\n",
    "\n",
    "img = Image.open('path/to/image.png')\n",
    "left = 25\n",
    "upper = 0\n",
    "right = 100\n",
    "lower = 75\n",
    "img_cropped = img.crop((left, upper, right, lower))\n",
    "img_cropped.show()"
   ]
  },
  {
   "cell_type": "code",
   "execution_count": 2,
   "id": "62e3bcea",
   "metadata": {},
   "outputs": [],
   "source": [
    "#6. After making changes to an Image object, how could you save it as an image file?\n",
    "\n",
    "#ANswer- \n",
    "\n",
    "from PIL import Image\n",
    "import numpy as np\n",
    "\n",
    "i = Image.open(\"C:/Users/User/Desktop/mesh.bmp\")\n",
    "i = i.convert(\"L\")\n",
    "a = np.asarray(i)\n",
    "b = np.abs(np.fft.rfft2(a))\n",
    "j = Image.fromarray(b)\n",
    "j.save(\"C:/Users/User/Desktop/mesh_trans\",\".bmp\")"
   ]
  },
  {
   "cell_type": "markdown",
   "id": "ea0fd6ae",
   "metadata": {},
   "source": [
    "7. What module contains Pillow’s shape-drawing code?\n",
    "\n",
    "Answer- Pillow provides a drawing module called ImageDraw that you can use to create simple 2D graphics on your Image objects."
   ]
  },
  {
   "cell_type": "markdown",
   "id": "7af7915b",
   "metadata": {},
   "source": [
    "8. Image objects do not have drawing methods. What kind of object does? How do you get this kind of object?\n",
    "\n",
    "Answer- Draw() to get an ImageDraw object, and storing the ImageDraw object in draw , you can call drawing methods on draw ."
   ]
  },
  {
   "cell_type": "code",
   "execution_count": null,
   "id": "e6a177c7",
   "metadata": {},
   "outputs": [],
   "source": []
  }
 ],
 "metadata": {
  "kernelspec": {
   "display_name": "Python 3 (ipykernel)",
   "language": "python",
   "name": "python3"
  },
  "language_info": {
   "codemirror_mode": {
    "name": "ipython",
    "version": 3
   },
   "file_extension": ".py",
   "mimetype": "text/x-python",
   "name": "python",
   "nbconvert_exporter": "python",
   "pygments_lexer": "ipython3",
   "version": "3.9.7"
  }
 },
 "nbformat": 4,
 "nbformat_minor": 5
}
